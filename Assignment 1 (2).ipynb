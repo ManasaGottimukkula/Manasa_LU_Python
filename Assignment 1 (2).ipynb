{
 "cells": [
  {
   "cell_type": "markdown",
   "metadata": {},
   "source": [
    "**Question 1 : Try 5 Different functions of the Strings in Python**"
   ]
  },
  {
   "cell_type": "code",
   "execution_count": 1,
   "metadata": {},
   "outputs": [
    {
     "name": "stdout",
     "output_type": "stream",
     "text": [
      "HELLO WORLD!\n"
     ]
    }
   ],
   "source": [
    "String = \"Hello World!\"\n",
    "s = String.upper() \n",
    "print(s)"
   ]
  },
  {
   "cell_type": "code",
   "execution_count": 2,
   "metadata": {},
   "outputs": [
    {
     "name": "stdout",
     "output_type": "stream",
     "text": [
      "hello world!\n"
     ]
    }
   ],
   "source": [
    "String = \"Hello World!\"\n",
    "s = String.lower() \n",
    "print(s)"
   ]
  },
  {
   "cell_type": "code",
   "execution_count": 3,
   "metadata": {},
   "outputs": [
    {
     "name": "stdout",
     "output_type": "stream",
     "text": [
      "Hello World!\n"
     ]
    }
   ],
   "source": [
    "String = \"Tello World!\"\n",
    "s = String.replace(\"T\",\"H\")\n",
    "print(s)"
   ]
  },
  {
   "cell_type": "code",
   "execution_count": 4,
   "metadata": {},
   "outputs": [
    {
     "name": "stdout",
     "output_type": "stream",
     "text": [
      "Hello world!!\n"
     ]
    }
   ],
   "source": [
    "String = \"hello world!!\"\n",
    "s = String.capitalize()\n",
    "print(s)"
   ]
  },
  {
   "cell_type": "code",
   "execution_count": 5,
   "metadata": {},
   "outputs": [
    {
     "name": "stdout",
     "output_type": "stream",
     "text": [
      "Welcome Manasa!\n"
     ]
    }
   ],
   "source": [
    "String = \"Welcome {word}\"\n",
    "s = String.format(word = \"Manasa!\")\n",
    "print(s)"
   ]
  },
  {
   "cell_type": "markdown",
   "metadata": {},
   "source": [
    "**Question 2: Try 5 different functions of the List Object in Python**"
   ]
  },
  {
   "cell_type": "code",
   "execution_count": 6,
   "metadata": {},
   "outputs": [
    {
     "name": "stdout",
     "output_type": "stream",
     "text": [
      "[1, 2, 3, 'Manasa', False, 'CSE']\n"
     ]
    }
   ],
   "source": [
    "list1 = [1,2,3, 'Manasa', False]\n",
    "list1.append(\"CSE\") \n",
    "print(list1)"
   ]
  },
  {
   "cell_type": "code",
   "execution_count": 7,
   "metadata": {},
   "outputs": [
    {
     "name": "stdout",
     "output_type": "stream",
     "text": [
      "['Sindhura', 'Kavya', 'Manasa']\n"
     ]
    }
   ],
   "source": [
    "list1 = [\"Sindhura\",\"Kavya\"]\n",
    "list2 = [\"Manasa\"]\n",
    "list1.extend(list2)\n",
    "print(list1)"
   ]
  },
  {
   "cell_type": "code",
   "execution_count": 8,
   "metadata": {},
   "outputs": [
    {
     "name": "stdout",
     "output_type": "stream",
     "text": [
      "[]\n"
     ]
    }
   ],
   "source": [
    "lis1 = [1, 2, 3, 'Manasa', True]\n",
    "list1.clear()\n",
    "print(list1)"
   ]
  },
  {
   "cell_type": "code",
   "execution_count": 9,
   "metadata": {},
   "outputs": [
    {
     "name": "stdout",
     "output_type": "stream",
     "text": [
      "['Sindhura', 'Kavya']\n"
     ]
    }
   ],
   "source": [
    "list1 = [\"Sindhura\", \"Kavya\", \"Manasa\"]\n",
    "list1.pop(2)\n",
    "print(list1)"
   ]
  },
  {
   "cell_type": "code",
   "execution_count": 10,
   "metadata": {},
   "outputs": [
    {
     "name": "stdout",
     "output_type": "stream",
     "text": [
      "[3, 6, 20, 77, 100]\n"
     ]
    }
   ],
   "source": [
    "list1 = [20, 77, 100, 3, 6]\n",
    "list1.sort() \n",
    "print(list1)"
   ]
  },
  {
   "cell_type": "markdown",
   "metadata": {},
   "source": [
    "**Question 3: Experiment with at least 5 default functions of Dictionary**"
   ]
  },
  {
   "cell_type": "code",
   "execution_count": 11,
   "metadata": {},
   "outputs": [
    {
     "name": "stdout",
     "output_type": "stream",
     "text": [
      "dict_values(['5B6', '5A6', '571'])\n"
     ]
    }
   ],
   "source": [
    "dict1 = {\"Manasa\":\"5B6\", \"Sindhura\":\"5A6\", \"Kavya\":\"571\" }\n",
    "d = dict1.values() \n",
    "print(d)"
   ]
  },
  {
   "cell_type": "code",
   "execution_count": 12,
   "metadata": {},
   "outputs": [
    {
     "name": "stdout",
     "output_type": "stream",
     "text": [
      "dict_keys(['Manasa', 'Sindhura', 'Kavya'])\n"
     ]
    }
   ],
   "source": [
    "dict1 = {\"Manasa\":\"5B6\", \"Sindhura\":\"5A6\", \"Kavya\":\"571\" }\n",
    "d = dict1.keys() \n",
    "print(d)"
   ]
  },
  {
   "cell_type": "code",
   "execution_count": 13,
   "metadata": {},
   "outputs": [
    {
     "name": "stdout",
     "output_type": "stream",
     "text": [
      "{'Manasa': '5B6', 'Sindhura': '5A6', 'Kavya': '571', 'Sravanthi': '512'}\n"
     ]
    }
   ],
   "source": [
    "dict1 = {\"Manasa\":\"5B6\", \"Sindhura\":\"5A6\", \"Kavya\":\"571\" }\n",
    "dict1.update({\"Sravanthi\":\"512\"}) \n",
    "print(dict1)"
   ]
  },
  {
   "cell_type": "code",
   "execution_count": 14,
   "metadata": {},
   "outputs": [
    {
     "name": "stdout",
     "output_type": "stream",
     "text": [
      "5B6\n"
     ]
    }
   ],
   "source": [
    "dict1 = {\"Manasa\":\"5B6\", \"Sindhura\":\"5A6\", \"Kavya\":\"571\" }\n",
    "d = dict1.get(\"Manasa\") \n",
    "print(d)"
   ]
  },
  {
   "cell_type": "code",
   "execution_count": 15,
   "metadata": {},
   "outputs": [
    {
     "name": "stdout",
     "output_type": "stream",
     "text": [
      "{'Manasa': '5B6', 'Sindhura': '5A6', 'Kavya': '571'}\n"
     ]
    }
   ],
   "source": [
    "dict1 = {\"Manasa\":\"5B6\", \"Sindhura\":\"5A6\", \"Kavya\":\"571\" }\n",
    "dict1.update({\"Sravanthi\":\"512\"}) \n",
    "dict1.pop(\"Sravanthi\")\n",
    "print(dict1)"
   ]
  }
 ],
 "metadata": {
  "kernelspec": {
   "display_name": "Python 3",
   "language": "python",
   "name": "python3"
  },
  "language_info": {
   "codemirror_mode": {
    "name": "ipython",
    "version": 3
   },
   "file_extension": ".py",
   "mimetype": "text/x-python",
   "name": "python",
   "nbconvert_exporter": "python",
   "pygments_lexer": "ipython3",
   "version": "3.7.3"
  }
 },
 "nbformat": 4,
 "nbformat_minor": 2
}
